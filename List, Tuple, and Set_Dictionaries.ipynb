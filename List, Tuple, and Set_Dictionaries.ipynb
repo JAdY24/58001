{
  "nbformat": 4,
  "nbformat_minor": 0,
  "metadata": {
    "colab": {
      "provenance": [],
      "authorship_tag": "ABX9TyNwHOoEzS6/Y53sdqjN/VCg",
      "include_colab_link": true
    },
    "kernelspec": {
      "name": "python3",
      "display_name": "Python 3"
    },
    "language_info": {
      "name": "python"
    }
  },
  "cells": [
    {
      "cell_type": "markdown",
      "metadata": {
        "id": "view-in-github",
        "colab_type": "text"
      },
      "source": [
        "<a href=\"https://colab.research.google.com/github/Jeff-Adriane-Ypanto/OOP-58001/blob/main/List%2C%20Tuple%2C%20and%20Set_Dictionaries.ipynb\" target=\"_parent\"><img src=\"https://colab.research.google.com/assets/colab-badge.svg\" alt=\"Open In Colab\"/></a>"
      ]
    },
    {
      "cell_type": "markdown",
      "source": [
        "Functions"
      ],
      "metadata": {
        "id": "-7a9jVjhJcfR"
      }
    },
    {
      "cell_type": "code",
      "source": [
        "class Shapes:\n",
        "  def __init__(self, length, width):\n",
        "    self. length = length\n",
        "    self. width = width\n",
        "  def area (self):\n",
        "    return self.length * self.width\n",
        "\n",
        "rectangle = Shapes(10,5)\n",
        "rectangle.area()"
      ],
      "metadata": {
        "colab": {
          "base_uri": "https://localhost:8080/"
        },
        "id": "wCcBysGkThI7",
        "outputId": "a5d82cc2-f92b-4e98-ff18-0f5249594073"
      },
      "execution_count": 15,
      "outputs": [
        {
          "output_type": "execute_result",
          "data": {
            "text/plain": [
              "50"
            ]
          },
          "metadata": {},
          "execution_count": 15
        }
      ]
    },
    {
      "cell_type": "code",
      "execution_count": 14,
      "metadata": {
        "colab": {
          "base_uri": "https://localhost:8080/"
        },
        "id": "5MHeAWeWI3Od",
        "outputId": "fc4f4aab-76d5-4285-e9e9-b1e389bc2ef5"
      },
      "outputs": [
        {
          "output_type": "stream",
          "name": "stdout",
          "text": [
            "My name is Jeff Age is 18\n"
          ]
        }
      ],
      "source": [
        "class Person:\n",
        "  def __init__(self, name, age):\n",
        "    self.name = name\n",
        "    self.age = age\n",
        "  def me(self):\n",
        "    print(\"My name is \" + self.name + \" Age is \" + self.age)\n",
        "    \n",
        "myName = Person(\"Jeff\", \"18\")\n",
        "myName.me()"
      ]
    },
    {
      "cell_type": "markdown",
      "source": [
        "List"
      ],
      "metadata": {
        "id": "DNGTgAx4UsWK"
      }
    },
    {
      "cell_type": "code",
      "source": [
        "pi = 3.14159\n",
        "varList = ['abc', 1 , 'def', 2]\n",
        "print(varList[0])\n",
        "\n",
        "varList. append('ghi')\n",
        "print(varList)\n",
        "varList.remove(2)\n",
        "print(varList)\n",
        "varList.insert(3, 3)\n",
        "print(varList)"
      ],
      "metadata": {
        "colab": {
          "base_uri": "https://localhost:8080/"
        },
        "id": "SKwEBwhnUpoC",
        "outputId": "f72cad03-8ad0-4ead-d8fe-24debf50f9b3"
      },
      "execution_count": 19,
      "outputs": [
        {
          "output_type": "stream",
          "name": "stdout",
          "text": [
            "abc\n",
            "['abc', 1, 'def', 2, 'ghi']\n",
            "['abc', 1, 'def', 'ghi']\n",
            "['abc', 1, 'def', 3, 'ghi']\n"
          ]
        }
      ]
    },
    {
      "cell_type": "markdown",
      "source": [
        "Dictionaries"
      ],
      "metadata": {
        "id": "JJRCZ5RdV-ii"
      }
    },
    {
      "cell_type": "code",
      "source": [
        "students = {\n",
        "          1:\"Jeff\",\n",
        "          2:\"Price\",\n",
        "          3:\"John\",\n",
        "          4:\"Leatherface\",\n",
        "          5:\"Billy the puppet\",\n",
        "          4:\"Jason\",\n",
        "}\n",
        "print(students)"
      ],
      "metadata": {
        "colab": {
          "base_uri": "https://localhost:8080/"
        },
        "id": "AymW59E9WBW5",
        "outputId": "dbd3f321-0b43-4d3d-c09a-5cb3c401de60"
      },
      "execution_count": 22,
      "outputs": [
        {
          "output_type": "stream",
          "name": "stdout",
          "text": [
            "{1: 'Jeff', 2: 'Price', 3: 'John', 4: 'Jason', 5: 'Billy the puppet'}\n"
          ]
        }
      ]
    }
  ]
}