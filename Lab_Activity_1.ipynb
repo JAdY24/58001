{
  "nbformat": 4,
  "nbformat_minor": 0,
  "metadata": {
    "colab": {
      "provenance": [],
      "authorship_tag": "ABX9TyMnK1yBzSyiEIeW1Wg83/5r",
      "include_colab_link": true
    },
    "kernelspec": {
      "name": "python3",
      "display_name": "Python 3"
    },
    "language_info": {
      "name": "python"
    }
  },
  "cells": [
    {
      "cell_type": "markdown",
      "metadata": {
        "id": "view-in-github",
        "colab_type": "text"
      },
      "source": [
        "<a href=\"https://colab.research.google.com/github/Jeff-Adriane-Ypanto/OOP-58001/blob/main/Lab_Activity_1.ipynb\" target=\"_parent\"><img src=\"https://colab.research.google.com/assets/colab-badge.svg\" alt=\"Open In Colab\"/></a>"
      ]
    },
    {
      "cell_type": "code",
      "execution_count": 25,
      "metadata": {
        "colab": {
          "base_uri": "https://localhost:8080/"
        },
        "id": "GgBgoe8bHG6B",
        "outputId": "a6b18d5b-d1a3-4acf-94c9-5cf8f2b70954"
      },
      "outputs": [
        {
          "output_type": "stream",
          "name": "stdout",
          "text": [
            "sum = 210\n",
            "Average = 10.5\n"
          ]
        }
      ],
      "source": [
        "n = 20\n",
        "totalnumbers = n\n",
        "sum = 0 \n",
        "average = 0\n",
        "\n",
        "while n >= 0:\n",
        "  sum += n\n",
        "  n -= 1\n",
        "print(\"sum =\", sum)\n",
        "\n",
        "average = sum/totalnumbers\n",
        "print(\"Average =\", average)"
      ]
    }
  ]
}