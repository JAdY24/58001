{
  "nbformat": 4,
  "nbformat_minor": 0,
  "metadata": {
    "colab": {
      "provenance": [],
      "authorship_tag": "ABX9TyMgsTMH0eIYj7sKPVC1XNMT",
      "include_colab_link": true
    },
    "kernelspec": {
      "name": "python3",
      "display_name": "Python 3"
    },
    "language_info": {
      "name": "python"
    }
  },
  "cells": [
    {
      "cell_type": "markdown",
      "metadata": {
        "id": "view-in-github",
        "colab_type": "text"
      },
      "source": [
        "<a href=\"https://colab.research.google.com/github/Jeff-Adriane-Ypanto/OOP-58001/blob/main/Concepts_in_OOP.ipynb\" target=\"_parent\"><img src=\"https://colab.research.google.com/assets/colab-badge.svg\" alt=\"Open In Colab\"/></a>"
      ]
    },
    {
      "cell_type": "code",
      "execution_count": 1,
      "metadata": {
        "id": "l2Lx5mmdO8P3"
      },
      "outputs": [],
      "source": [
        "#Class Constructor\n",
        "class Car:\n",
        "  pass"
      ]
    },
    {
      "cell_type": "code",
      "source": [
        "#Create a class\n",
        "\n",
        "class MyNumber:\n",
        "  x = 5\n",
        "\n",
        "num1 = MyNumber()\n",
        "print(num1.x)"
      ],
      "metadata": {
        "colab": {
          "base_uri": "https://localhost:8080/"
        },
        "id": "f5GHxsjoPZ4N",
        "outputId": "2204abff-23b7-44aa-d4a7-0ad22e8525a7"
      },
      "execution_count": 3,
      "outputs": [
        {
          "output_type": "stream",
          "name": "stdout",
          "text": [
            "5\n"
          ]
        }
      ]
    },
    {
      "cell_type": "code",
      "source": [
        "class Person:\n",
        "  def __init__(self, name, age):\n",
        "    self.name = name\n",
        "    self.age = age\n",
        "  def myFunction(self):\n",
        "    print(\"Hello, my name is\",self. name, \"I'm\",self.age)\n",
        "\n",
        "person = Person(\"Jeff\" ,18)\n",
        "\n",
        "person.myFunction()"
      ],
      "metadata": {
        "colab": {
          "base_uri": "https://localhost:8080/"
        },
        "id": "4RJZ94g5RXak",
        "outputId": "579dfd76-3677-4936-c5d4-00d7fad08f89"
      },
      "execution_count": 31,
      "outputs": [
        {
          "output_type": "stream",
          "name": "stdout",
          "text": [
            "Hello, my name is Jeff I'm 18\n"
          ]
        }
      ]
    },
    {
      "cell_type": "code",
      "source": [
        "#modify the Object properties\n",
        "\n",
        "person.name = \"Marco\"\n",
        "print(person.name)\n",
        "person.myFunction()\n"
      ],
      "metadata": {
        "colab": {
          "base_uri": "https://localhost:8080/"
        },
        "id": "WfiruX_ESDet",
        "outputId": "bbbcf430-0d96-49b9-ac02-9b7996e0d388"
      },
      "execution_count": 32,
      "outputs": [
        {
          "output_type": "stream",
          "name": "stdout",
          "text": [
            "Marco\n",
            "Hello, my name is Marco I'm 18\n"
          ]
        }
      ]
    },
    {
      "cell_type": "code",
      "source": [
        "#Deletion of Object Properties\n",
        "\n",
        "del person.age\n",
        "person.myFunction()\n",
        "print(person.name)"
      ],
      "metadata": {
        "id": "OoLaBBdtSDt-"
      },
      "execution_count": null,
      "outputs": []
    },
    {
      "cell_type": "code",
      "source": [
        "#Compute for the area of Square\n",
        "\n",
        "class Shapes:\n",
        "  def __init__(self, side): #initial function to name the attributes\n",
        "    self.side = side\n",
        "\n",
        "  def area(self):           #method/formula to compute for the area of a square\n",
        "    return self.side*self.side\n",
        "\n",
        "  def display(self):        #method to display the area\n",
        "    print(\"the area of the square is\",self.area())\n",
        "\n",
        "square = Shapes(4)\n",
        "square. display()"
      ],
      "metadata": {
        "colab": {
          "base_uri": "https://localhost:8080/"
        },
        "id": "pCCcmfEaTDur",
        "outputId": "76b04037-988b-4614-d460-00bcf73918d3"
      },
      "execution_count": 13,
      "outputs": [
        {
          "output_type": "stream",
          "name": "stdout",
          "text": [
            "the area of the square is 16\n"
          ]
        }
      ]
    },
    {
      "cell_type": "code",
      "source": [
        "#Create a python program with the following:\n",
        "#student as class name\n",
        "# Fullname, Student Number, and School as attribute names\n",
        "# Construct a method to display the values of attributes\n",
        "# Use student as object name\n",
        "\n",
        "class Student:\n",
        "  def __init__(self, fullname, StudentNum, School):\n",
        "    self.fullname = fullname\n",
        "    self.StudentNum = StudentNum\n",
        "    self.School = School\n",
        "  def display(self):\n",
        "    print(\"Hi, my name is\",self.fullname, \"\\nmy student number is\", self.StudentNum, \"\\nAnd I am currently studying at\", self.School)\n",
        "  \n",
        "student = Student(\"Jeff Adriane G. Ypanto\", 202210408, \"Adamson University\")\n",
        "\n",
        "student.display()"
      ],
      "metadata": {
        "colab": {
          "base_uri": "https://localhost:8080/"
        },
        "id": "q8Tv34zCUtBL",
        "outputId": "a678ab26-7c05-4ad9-f002-fc669706ec80"
      },
      "execution_count": 41,
      "outputs": [
        {
          "output_type": "stream",
          "name": "stdout",
          "text": [
            "Hi, my name is Jeff Adriane G. Ypanto \n",
            "my student number is 202210408 \n",
            "And I am currently studying at Adamson University\n"
          ]
        }
      ]
    }
  ]
}