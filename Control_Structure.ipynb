{
  "nbformat": 4,
  "nbformat_minor": 0,
  "metadata": {
    "colab": {
      "provenance": [],
      "authorship_tag": "ABX9TyODjUcS5LCLBwSKesYF0Rus",
      "include_colab_link": true
    },
    "kernelspec": {
      "name": "python3",
      "display_name": "Python 3"
    },
    "language_info": {
      "name": "python"
    }
  },
  "cells": [
    {
      "cell_type": "markdown",
      "metadata": {
        "id": "view-in-github",
        "colab_type": "text"
      },
      "source": [
        "<a href=\"https://colab.research.google.com/github/Jeff-Adriane-Ypanto/OOP-58001/blob/main/Control_Structure.ipynb\" target=\"_parent\"><img src=\"https://colab.research.google.com/assets/colab-badge.svg\" alt=\"Open In Colab\"/></a>"
      ]
    },
    {
      "cell_type": "markdown",
      "source": [
        "Conditional Statement"
      ],
      "metadata": {
        "id": "eExIB_QFDfVW"
      }
    },
    {
      "cell_type": "code",
      "source": [
        "a = 12 \n",
        "b = 100 \n",
        "if b>a:\n",
        "  print(True)"
      ],
      "metadata": {
        "colab": {
          "base_uri": "https://localhost:8080/"
        },
        "id": "AaOhVmomDfwm",
        "outputId": "a211ed43-c14f-4116-f820-e7373254c8f2"
      },
      "execution_count": 2,
      "outputs": [
        {
          "output_type": "stream",
          "name": "stdout",
          "text": [
            "True\n"
          ]
        }
      ]
    },
    {
      "cell_type": "markdown",
      "source": [
        "Elif Statements"
      ],
      "metadata": {
        "id": "s27tse3iEmP2"
      }
    },
    {
      "cell_type": "code",
      "source": [
        "a = 12\n",
        "b = 12\n",
        "if b>a:\n",
        "  print (\"b is greater than a\")\n",
        "elif a==b:\n",
        "  print(\"a and b are equal\")\n",
        "else:\n",
        "  print()"
      ],
      "metadata": {
        "colab": {
          "base_uri": "https://localhost:8080/"
        },
        "id": "iI-RquI5EmqO",
        "outputId": "e3a1f311-ea59-4de6-d5fd-8335e4dccab9"
      },
      "execution_count": 3,
      "outputs": [
        {
          "output_type": "stream",
          "name": "stdout",
          "text": [
            "a and b are equal\n"
          ]
        }
      ]
    },
    {
      "cell_type": "markdown",
      "source": [],
      "metadata": {
        "id": "BR8L5ZUUE-ze"
      }
    },
    {
      "cell_type": "code",
      "source": [
        "#If Statement\n",
        "\n",
        "if 5>2:\n",
        "  print(\"five is greater than 2\")"
      ],
      "metadata": {
        "colab": {
          "base_uri": "https://localhost:8080/"
        },
        "id": "nVTtYrUbE_Fv",
        "outputId": "96973ef9-b442-4631-bbbe-0adf0fd37c44"
      },
      "execution_count": 4,
      "outputs": [
        {
          "output_type": "stream",
          "name": "stdout",
          "text": [
            "five is greater than 2\n"
          ]
        }
      ]
    },
    {
      "cell_type": "code",
      "source": [
        "x = input()\n",
        "y = input()\n",
        "if x>y:\n",
        "  print(x +\" is greater than \" + y)"
      ],
      "metadata": {
        "colab": {
          "base_uri": "https://localhost:8080/"
        },
        "id": "Lqb7l38oF6c-",
        "outputId": "36f4c064-206a-4fda-942d-cf3cc2c92dd5"
      },
      "execution_count": 10,
      "outputs": [
        {
          "output_type": "stream",
          "name": "stdout",
          "text": [
            "5\n",
            "2\n",
            "5 is greater than 2\n"
          ]
        }
      ]
    },
    {
      "cell_type": "code",
      "source": [
        "#Elif statement\n",
        "\n",
        "a = 100\n",
        "b = 100\n",
        "\n",
        "if a>b:\n",
        "  print(\"a is greater than b\")\n",
        "elif b>a:\n",
        "  print(\"b is greater than a\")"
      ],
      "metadata": {
        "id": "MfwR8RfYHV7v"
      },
      "execution_count": 14,
      "outputs": []
    },
    {
      "cell_type": "code",
      "source": [
        "#Else Statement\n",
        "if a>b:\n",
        "  print(\"a is greater than b\")\n",
        "elif b<a:\n",
        "  print(\"b is greater than a\")\n",
        "else:\n",
        "  print(\"a and b are equal\")"
      ],
      "metadata": {
        "colab": {
          "base_uri": "https://localhost:8080/"
        },
        "id": "0H1lP5TsH0wu",
        "outputId": "189c0f67-cba0-468e-b355-62b39c551332"
      },
      "execution_count": 15,
      "outputs": [
        {
          "output_type": "stream",
          "name": "stdout",
          "text": [
            "a and b are equal\n"
          ]
        }
      ]
    },
    {
      "cell_type": "markdown",
      "source": [
        "Nested if"
      ],
      "metadata": {
        "id": "J94v9-duIldf"
      }
    },
    {
      "cell_type": "code",
      "source": [
        "x = 53\n",
        "\n",
        "if x>10:\n",
        "  print(\"above 10\")\n",
        "  if x>20:\n",
        "    print(\"and also above 20\")\n",
        "    if x>30:\n",
        "      print(\"and also above 30\")\n",
        "      if x>40:\n",
        "        print(\"and also above 40\")\n",
        "        if x<50:\n",
        "          print(\"but below 50\")\n",
        "        else:\n",
        "          print(\"and also above 50\")\n",
        "      else:\n",
        "        print(\"below 40\")\n",
        "    else:\n",
        "      print(\"below 30\")"
      ],
      "metadata": {
        "colab": {
          "base_uri": "https://localhost:8080/"
        },
        "id": "9T4Ov2FVIqG9",
        "outputId": "0ee93502-8590-4fd0-fbb6-838ecdb2ccd2"
      },
      "execution_count": 26,
      "outputs": [
        {
          "output_type": "stream",
          "name": "stdout",
          "text": [
            "above 10\n",
            "and also above 20\n",
            "and also above 30\n",
            "and also above 40\n",
            "and also above 50\n"
          ]
        }
      ]
    },
    {
      "cell_type": "markdown",
      "source": [
        "Example 1"
      ],
      "metadata": {
        "id": "pGXuHF8yMBbH"
      }
    },
    {
      "cell_type": "code",
      "source": [
        "x =int(input())\n",
        "\n",
        "if x>18:\n",
        "  print(\"You are qualified to vote\")\n",
        "else:\n",
        "  print(\"You are not qualified to vote\")"
      ],
      "metadata": {
        "colab": {
          "base_uri": "https://localhost:8080/"
        },
        "id": "G3zy1ecgMMgG",
        "outputId": "cfb7fe36-673c-477b-ed75-9fbbe15f30b8"
      },
      "execution_count": 28,
      "outputs": [
        {
          "output_type": "stream",
          "name": "stdout",
          "text": [
            "9\n",
            "You are not qualified to vote\n"
          ]
        }
      ]
    },
    {
      "cell_type": "markdown",
      "source": [
        "Example 2"
      ],
      "metadata": {
        "id": "Rvd9_8T-Mld_"
      }
    },
    {
      "cell_type": "code",
      "source": [
        "x = float(input())\n",
        "\n",
        "if x > 1:\n",
        "  print(\"The number is positive\")\n",
        "elif x < 0:\n",
        "  print(\"The number is negative\")\n",
        "else:\n",
        "  print(\"The number is zero\")\n"
      ],
      "metadata": {
        "colab": {
          "base_uri": "https://localhost:8080/"
        },
        "id": "QHaZDbt8Mlyv",
        "outputId": "82a3cb7c-dfb6-489c-8ed1-5217191b53ae"
      },
      "execution_count": 66,
      "outputs": [
        {
          "output_type": "stream",
          "name": "stdout",
          "text": [
            "-69.5\n",
            "The number is negative\n"
          ]
        }
      ]
    },
    {
      "cell_type": "markdown",
      "source": [
        "Example 3"
      ],
      "metadata": {
        "id": "ApmIbtP_MmTm"
      }
    },
    {
      "cell_type": "code",
      "source": [
        "x = float(input())\n",
        "\n",
        "if x >=101:\n",
        "  print(\"It will not accepted\")\n",
        "elif x >= 70:\n",
        "  print(\"Passed\")\n",
        "elif x >= 65:\n",
        "  print(\"Remedial\")\n",
        "elif x >= 0:\n",
        "  print(\"failed\")\n",
        "else:\n",
        "  print(\"It will not accepted\")"
      ],
      "metadata": {
        "colab": {
          "base_uri": "https://localhost:8080/"
        },
        "id": "tSAmu37MMmnO",
        "outputId": "20f38d7b-558d-48d8-f7b4-836cd5193e59"
      },
      "execution_count": 69,
      "outputs": [
        {
          "output_type": "stream",
          "name": "stdout",
          "text": [
            "169\n",
            "It will not accepted\n"
          ]
        }
      ]
    }
  ]
}