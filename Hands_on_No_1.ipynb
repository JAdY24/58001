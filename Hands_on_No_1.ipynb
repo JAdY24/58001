{
  "nbformat": 4,
  "nbformat_minor": 0,
  "metadata": {
    "colab": {
      "provenance": [],
      "authorship_tag": "ABX9TyOavK5i0aABBuEGfB0Y8XwD",
      "include_colab_link": true
    },
    "kernelspec": {
      "name": "python3",
      "display_name": "Python 3"
    },
    "language_info": {
      "name": "python"
    }
  },
  "cells": [
    {
      "cell_type": "markdown",
      "metadata": {
        "id": "view-in-github",
        "colab_type": "text"
      },
      "source": [
        "<a href=\"https://colab.research.google.com/github/Jeff-Adriane-Ypanto/OOP-58001/blob/main/Hands_on_No_1.ipynb\" target=\"_parent\"><img src=\"https://colab.research.google.com/assets/colab-badge.svg\" alt=\"Open In Colab\"/></a>"
      ]
    },
    {
      "cell_type": "code",
      "execution_count": 12,
      "metadata": {
        "colab": {
          "base_uri": "https://localhost:8080/"
        },
        "id": "-2SdjjzFZCfw",
        "outputId": "c1936ffb-6e47-4ee6-a546-5a0e514d6b2a"
      },
      "outputs": [
        {
          "output_type": "stream",
          "name": "stdout",
          "text": [
            "The grade of Student1 Prelim 86 Midterm 81 Finals 88 The average is 85.0\n",
            "The grade of Student2 Prelim 76 Midterm 74 Finals 80 The average is 76.66666666666667\n",
            "The grade of Student3 Prelim 92 Midterm 95 Finals 89 The average is 92.0\n"
          ]
        }
      ],
      "source": [
        "class Person():\n",
        "  def __init__(self, student, pre, mid, fin):\n",
        "    self.student = student\n",
        "    self.pre = pre\n",
        "    self.mid = mid\n",
        "    self.fin = fin\n",
        "\n",
        "  def Grade(self):\n",
        "    return (self.pre+self.mid+self.fin)/3\n",
        "\n",
        "  def display(self):\n",
        "    print(f\"The grade of\", self.student, \"Prelim\" ,self.pre, \"Midterm\", self.mid, \"Finals\", self.fin, \"The average is\", self.Grade())\n",
        "\n",
        "class Student1(Person):\n",
        "  pass \n",
        "class Student2(Person):\n",
        "  pass\n",
        "class Student3(Person):\n",
        "  pass\n",
        "\n",
        "student1 = Student1(\"Student1\", 86, 81, 88)\n",
        "student1.display()\n",
        "student2 = Student2(\"Student2\",76, 74, 80)\n",
        "student2.display()\n",
        "student3 = Student3(\"Student3\",92, 95, 89)\n",
        "student3.display()"
      ]
    }
  ]
}