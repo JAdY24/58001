{
  "nbformat": 4,
  "nbformat_minor": 0,
  "metadata": {
    "colab": {
      "provenance": [],
      "authorship_tag": "ABX9TyMaZ5JAOKvE96HwC09yN0Qc",
      "include_colab_link": true
    },
    "kernelspec": {
      "name": "python3",
      "display_name": "Python 3"
    },
    "language_info": {
      "name": "python"
    }
  },
  "cells": [
    {
      "cell_type": "markdown",
      "metadata": {
        "id": "view-in-github",
        "colab_type": "text"
      },
      "source": [
        "<a href=\"https://colab.research.google.com/github/Jeff-Adriane-Ypanto/OOP-58001/blob/main/concepts_in_OOP_Part_2.ipynb\" target=\"_parent\"><img src=\"https://colab.research.google.com/assets/colab-badge.svg\" alt=\"Open In Colab\"/></a>"
      ]
    },
    {
      "cell_type": "markdown",
      "source": [],
      "metadata": {
        "id": "HGDG-m0gToO2"
      }
    },
    {
      "cell_type": "code",
      "execution_count": 9,
      "metadata": {
        "colab": {
          "base_uri": "https://localhost:8080/"
        },
        "id": "yCIvPG6ITnAp",
        "outputId": "2a7d8e33-53f4-444c-8513-4f736e14b7fc"
      },
      "outputs": [
        {
          "output_type": "stream",
          "name": "stdout",
          "text": [
            "GriffonVulture flies above clouds\n",
            "Common Crane flies above clouds\n",
            "Emu is the national bird of Philippines\n"
          ]
        }
      ],
      "source": [
        "class Birds:\n",
        "  def __init__(self, bird_name):\n",
        "    self.bird_name = bird_name\n",
        "  def flying_bird(self):\n",
        "    print(f\"{self.bird_name} flies above clouds\")\n",
        "  def non_flying_birds(self):\n",
        "    print(f\"{self.bird_name} is the national bird of Philippines\")\n",
        "\n",
        "vulture = Birds(\"GriffonVulture\")\n",
        "crane = Birds(\"Common Crane\")\n",
        "emu =Birds(\"Emu\")\n",
        "\n",
        "vulture.flying_bird()\n",
        "crane.flying_bird()\n",
        "emu.non_flying_birds()"
      ]
    },
    {
      "cell_type": "markdown",
      "source": [
        "Mangling using double undersave"
      ],
      "metadata": {
        "id": "axy_JolLY9x0"
      }
    },
    {
      "cell_type": "code",
      "source": [
        "#Encapsulation\n",
        "\n",
        "class foo:\n",
        "  def __init__(self, a ,b):\n",
        "    self.__a = a \n",
        "    self.__b = b\n",
        "  def add(self):\n",
        "    return self.__a + self.__b\n",
        "\n",
        "foo_object = foo(3,4)\n",
        "foo_object.add()\n",
        "foo_object.a = 5\n",
        "foo_object.add()"
      ],
      "metadata": {
        "colab": {
          "base_uri": "https://localhost:8080/"
        },
        "id": "GTHRHe_VY-JT",
        "outputId": "45ed16c7-d0a6-4b71-ee37-982a3dab3583"
      },
      "execution_count": 15,
      "outputs": [
        {
          "output_type": "execute_result",
          "data": {
            "text/plain": [
              "7"
            ]
          },
          "metadata": {},
          "execution_count": 15
        }
      ]
    },
    {
      "cell_type": "code",
      "source": [
        "class Counter:\n",
        "  def __init__(self):\n",
        "    self.current = 0\n",
        "\n",
        "  def increment(self):\n",
        "    self.current += 1\n",
        "\n",
        "  def value(self):\n",
        "    return self.current\n",
        "\n",
        "  def reset(self):\n",
        "    self.current = 0\n",
        "\n",
        "counter = Counter()\n",
        "counter.increment()\n",
        "counter.value()\n",
        "counter.reset()\n",
        "counter.value()"
      ],
      "metadata": {
        "colab": {
          "base_uri": "https://localhost:8080/"
        },
        "id": "zWUFRCo2bwGZ",
        "outputId": "7815d4b6-bb48-4e3f-f544-bf60d56a7a4e"
      },
      "execution_count": 19,
      "outputs": [
        {
          "output_type": "execute_result",
          "data": {
            "text/plain": [
              "0"
            ]
          },
          "metadata": {},
          "execution_count": 19
        }
      ]
    },
    {
      "cell_type": "code",
      "source": [
        "#Inheritance\n",
        "\n",
        "class Person:\n",
        "  def __init__(self,name, birthdate):\n",
        "    self.name = name\n",
        "    self.birthdate = birthdate\n",
        "  def display(self):\n",
        "    print(f\"My name is \", self.name)\n",
        "    print(f\"my birthdate\", self.birthdate)\n",
        "\n",
        "class Student(Person):\n",
        "  pass\n",
        "class Teacher(Person):\n",
        "  pass\n",
        "student = Student(\"Jeff\",\"Feb 24, 2004\")\n",
        "student.display()\n",
        "teacher = Teacher(\"Maria\", \"Jan 14, 1984\")\n",
        "teacher.display()"
      ],
      "metadata": {
        "colab": {
          "base_uri": "https://localhost:8080/"
        },
        "id": "iCNshvmPeT6g",
        "outputId": "a1475021-efeb-4493-e74d-3b1bdb4d2312"
      },
      "execution_count": 25,
      "outputs": [
        {
          "output_type": "stream",
          "name": "stdout",
          "text": [
            "My name is  Jeff\n",
            "my birthdate Feb 24, 2004\n",
            "My name is  Maria\n",
            "my birthdate Jan 14, 1984\n"
          ]
        }
      ]
    },
    {
      "cell_type": "code",
      "source": [
        "class Shapes():\n",
        "  def __init__(self, shape, side):\n",
        "    self.__shape = shape\n",
        "    self.__side = side\n",
        "  def display(self):\n",
        "    print(f\"The shape\", self.__shape)\n",
        "    print(f\"it has\", self.__side, \"side\")\n",
        "  \n",
        "class Circle(Shapes):\n",
        "  pass\n",
        "class Triangle(Shapes):\n",
        "  pass\n",
        "class Pentagon(Shapes):\n",
        "  pass\n",
        "class Octagon(Shapes):\n",
        "  pass\n",
        "class Decagon(Shapes):\n",
        "  pass\n",
        "\n",
        "circle = Circle(\"circle\", \"0\")\n",
        "circle.shape = 1\n",
        "circle.display()\n",
        "triangle = Triangle(\"triangle\",\"3\")\n",
        "triangle.shapes = 9\n",
        "triangle.display()\n",
        "pentagon = Pentagon(\"pentagon\", \"5\")\n",
        "pentagon.shape = 25\n",
        "pentagon.display()\n",
        "octagon = Octagon(\"octagon\",\"8\")\n",
        "octagon.shape = 64\n",
        "octagon.display()\n",
        "decagon = Decagon(\"decagon\",\"10\")\n",
        "decagon.shape = 100\n",
        "decagon.display()"
      ],
      "metadata": {
        "colab": {
          "base_uri": "https://localhost:8080/"
        },
        "id": "hpGqTX3eggp_",
        "outputId": "e18b3230-03d7-48cf-a146-9582ff888280"
      },
      "execution_count": 44,
      "outputs": [
        {
          "output_type": "stream",
          "name": "stdout",
          "text": [
            "The shape circle\n",
            "it has 0 side\n",
            "The shape triangle\n",
            "it has 3 side\n",
            "The shape pentagon\n",
            "it has 5 side\n",
            "The shape octagon\n",
            "it has 8 side\n",
            "The shape decagon\n",
            "it has 10 side\n"
          ]
        }
      ]
    }
  ]
}