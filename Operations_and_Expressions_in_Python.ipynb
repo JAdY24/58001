{
  "nbformat": 4,
  "nbformat_minor": 0,
  "metadata": {
    "colab": {
      "provenance": [],
      "authorship_tag": "ABX9TyNNwY1uu4HdAZpWkeoUbpCB",
      "include_colab_link": true
    },
    "kernelspec": {
      "name": "python3",
      "display_name": "Python 3"
    },
    "language_info": {
      "name": "python"
    }
  },
  "cells": [
    {
      "cell_type": "markdown",
      "metadata": {
        "id": "view-in-github",
        "colab_type": "text"
      },
      "source": [
        "<a href=\"https://colab.research.google.com/github/Jeff-Adriane-Ypanto/OOP-58001/blob/main/Operations_and_Expressions_in_Python.ipynb\" target=\"_parent\"><img src=\"https://colab.research.google.com/assets/colab-badge.svg\" alt=\"Open In Colab\"/></a>"
      ]
    },
    {
      "cell_type": "markdown",
      "source": [
        "Boolean Operators"
      ],
      "metadata": {
        "id": "mqv6didlkpch"
      }
    },
    {
      "cell_type": "code",
      "source": [
        "print(10>9)\n",
        "print(10==9)\n",
        "print(10<9)"
      ],
      "metadata": {
        "colab": {
          "base_uri": "https://localhost:8080/"
        },
        "id": "AOiY6G54k4Aq",
        "outputId": "acdda4e6-9879-42e4-b61f-104353f03405"
      },
      "execution_count": 9,
      "outputs": [
        {
          "output_type": "stream",
          "name": "stdout",
          "text": [
            "True\n",
            "False\n",
            "False\n"
          ]
        }
      ]
    },
    {
      "cell_type": "markdown",
      "source": [
        "Bool() Function"
      ],
      "metadata": {
        "id": "nZg881Fyk_LB"
      }
    },
    {
      "cell_type": "code",
      "source": [
        "print (bool(\"Jeff\"))\n",
        "print (bool(1))\n",
        "print (bool(0))\n",
        "print (bool(None))\n",
        "print (bool(True))"
      ],
      "metadata": {
        "colab": {
          "base_uri": "https://localhost:8080/"
        },
        "id": "kUWUGnMBk_oJ",
        "outputId": "256ad5a8-1d67-4fe2-f1d2-8da842b78a4d"
      },
      "execution_count": 21,
      "outputs": [
        {
          "output_type": "stream",
          "name": "stdout",
          "text": [
            "True\n",
            "True\n",
            "False\n",
            "False\n",
            "True\n"
          ]
        }
      ]
    },
    {
      "cell_type": "markdown",
      "source": [
        "Function can return a Boolean"
      ],
      "metadata": {
        "id": "u7aNrS9PlW_g"
      }
    },
    {
      "cell_type": "code",
      "source": [
        "def myNameJeff():\n",
        "  return True\n",
        "\n",
        "  print(myNameJeff())"
      ],
      "metadata": {
        "id": "zwVN3NEclYL5"
      },
      "execution_count": 23,
      "outputs": []
    },
    {
      "cell_type": "markdown",
      "source": [
        "You can execute code based on the Boolean answer of a function"
      ],
      "metadata": {
        "id": "df0JIuJelxoI"
      }
    },
    {
      "cell_type": "code",
      "source": [
        "def myNameJeff():\n",
        "  return True\n",
        "\n",
        "  if myNameJeff():\n",
        "    print(\"YES!!\")\n",
        "  else:\n",
        "    print(\"Hindi\")"
      ],
      "metadata": {
        "id": "_9ZmoCLllyDB"
      },
      "execution_count": 24,
      "outputs": []
    },
    {
      "cell_type": "markdown",
      "source": [
        "Try"
      ],
      "metadata": {
        "id": "YwaxfdFymRgQ"
      }
    },
    {
      "cell_type": "code",
      "source": [
        "print(10>9)\n",
        "\n",
        "a = 6\n",
        "b = 7\n",
        "print(a==b)\n",
        "print(a!=a)"
      ],
      "metadata": {
        "colab": {
          "base_uri": "https://localhost:8080/"
        },
        "id": "Hi6t27RvmSFA",
        "outputId": "2b05023b-c2ca-4e4b-f3a6-95251e424489"
      },
      "execution_count": 25,
      "outputs": [
        {
          "output_type": "stream",
          "name": "stdout",
          "text": [
            "True\n",
            "False\n",
            "False\n"
          ]
        }
      ]
    },
    {
      "cell_type": "markdown",
      "source": [
        "Python Operators"
      ],
      "metadata": {
        "id": "EmSYSsoFmp_Y"
      }
    },
    {
      "cell_type": "code",
      "source": [
        "print(10+5)\n",
        "print(10-5)\n",
        "print(10*5)\n",
        "print(10/5)\n",
        "print(10%5)\n",
        "print(10//3)\n",
        "print(10**2)"
      ],
      "metadata": {
        "colab": {
          "base_uri": "https://localhost:8080/"
        },
        "id": "8iAoeka8muOX",
        "outputId": "700c24c0-dd3e-4cb7-e92d-ae66c06c2735"
      },
      "execution_count": 19,
      "outputs": [
        {
          "output_type": "stream",
          "name": "stdout",
          "text": [
            "15\n",
            "5\n",
            "50\n",
            "2.0\n",
            "0\n",
            "3\n",
            "100\n"
          ]
        }
      ]
    },
    {
      "cell_type": "markdown",
      "source": [
        "Python Bitwise Operators"
      ],
      "metadata": {
        "id": "IIKk9a2onSaY"
      }
    },
    {
      "cell_type": "code",
      "source": [
        "a = 8\n",
        "b = 13\n",
        "\n",
        "print(a<<1)"
      ],
      "metadata": {
        "colab": {
          "base_uri": "https://localhost:8080/"
        },
        "id": "RnI3lanYnV_Y",
        "outputId": "1210cea2-ebac-408b-9373-9cce0a1c9a56"
      },
      "execution_count": 20,
      "outputs": [
        {
          "output_type": "stream",
          "name": "stdout",
          "text": [
            "16\n"
          ]
        }
      ]
    },
    {
      "cell_type": "markdown",
      "source": [
        "Python Assignment Operators"
      ],
      "metadata": {
        "id": "PNBahDnRiAlq"
      }
    },
    {
      "cell_type": "code",
      "source": [
        "a = 5\n",
        "a += 3 #same as x = x + 3\n",
        "print(a)\n",
        "\n",
        "b = 5\n",
        "b -= 3 #same as x = x - 3\n",
        "print(b)\n",
        "\n",
        "c = 5\n",
        "c *= 3 #same as x = x * 3\n",
        "print(c)\n",
        "\n",
        "d = 5\n",
        "d /= 3 #same as x = x / 3\n",
        "print(d)\n",
        "\n",
        "e = 5\n",
        "e %= 3 #same as x = x % 3\n",
        "print(e)"
      ],
      "metadata": {
        "colab": {
          "base_uri": "https://localhost:8080/"
        },
        "id": "kOH6D8kehijq",
        "outputId": "633906b1-e728-497a-b18f-ec58a93650c5"
      },
      "execution_count": 4,
      "outputs": [
        {
          "output_type": "stream",
          "name": "stdout",
          "text": [
            "8\n",
            "2\n",
            "15\n",
            "1.6666666666666667\n",
            "2\n"
          ]
        }
      ]
    },
    {
      "cell_type": "markdown",
      "source": [
        "Logical Operators"
      ],
      "metadata": {
        "id": "hJEf7cQujzzx"
      }
    },
    {
      "cell_type": "code",
      "source": [
        "a = True\n",
        "b = False \n",
        "\n",
        "print (not a )\n",
        "print (a and b)"
      ],
      "metadata": {
        "colab": {
          "base_uri": "https://localhost:8080/"
        },
        "id": "qO0etdgKj1rB",
        "outputId": "bb0def74-b661-45b5-9d05-88e781cb0f9c"
      },
      "execution_count": 5,
      "outputs": [
        {
          "output_type": "stream",
          "name": "stdout",
          "text": [
            "False\n",
            "False\n"
          ]
        }
      ]
    },
    {
      "cell_type": "markdown",
      "source": [
        "Identity Operators"
      ],
      "metadata": {
        "id": "tmJwmJ9bkCxR"
      }
    },
    {
      "cell_type": "code",
      "source": [
        "a = True\n",
        "b = False \n",
        "\n",
        "print(a is a)\n",
        "print(a is b)"
      ],
      "metadata": {
        "colab": {
          "base_uri": "https://localhost:8080/"
        },
        "id": "4s0ie8Y9kFch",
        "outputId": "ec68d3d7-64d2-4db6-c476-b79c1d3d5719"
      },
      "execution_count": 8,
      "outputs": [
        {
          "output_type": "stream",
          "name": "stdout",
          "text": [
            "True\n",
            "False\n"
          ]
        }
      ]
    }
  ]
}