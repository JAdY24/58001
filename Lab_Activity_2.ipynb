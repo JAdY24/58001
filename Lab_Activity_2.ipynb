{
  "nbformat": 4,
  "nbformat_minor": 0,
  "metadata": {
    "colab": {
      "provenance": [],
      "authorship_tag": "ABX9TyPAWZPbib7b+4R3FegA4Eni",
      "include_colab_link": true
    },
    "kernelspec": {
      "name": "python3",
      "display_name": "Python 3"
    },
    "language_info": {
      "name": "python"
    }
  },
  "cells": [
    {
      "cell_type": "markdown",
      "metadata": {
        "id": "view-in-github",
        "colab_type": "text"
      },
      "source": [
        "<a href=\"https://colab.research.google.com/github/Jeff-Adriane-Ypanto/OOP-58001/blob/main/Lab_Activity_2.ipynb\" target=\"_parent\"><img src=\"https://colab.research.google.com/assets/colab-badge.svg\" alt=\"Open In Colab\"/></a>"
      ]
    },
    {
      "cell_type": "markdown",
      "source": [
        "Lab Activity 2"
      ],
      "metadata": {
        "id": "g_atqTVzcy4k"
      }
    },
    {
      "cell_type": "code",
      "execution_count": 18,
      "metadata": {
        "colab": {
          "base_uri": "https://localhost:8080/"
        },
        "id": "031fA1eIcteg",
        "outputId": "11cb9ae2-a710-4768-983f-523177ad91a6"
      },
      "outputs": [
        {
          "output_type": "stream",
          "name": "stdout",
          "text": [
            "Enter the value of the radius of the circle: 7\n",
            "The perimeter of the circle is:  43.982297150257104\n",
            "The area of the circle is:  153.93804002589985\n"
          ]
        }
      ],
      "source": [
        "class Circle:\n",
        "  def __init__(self, radius):\n",
        "    import math\n",
        "    self.radius = radius\n",
        "    self.pi = math.pi\n",
        "\n",
        "  def perimeter(self):\n",
        "    return 2*self.pi*self.radius\n",
        "\n",
        "  def area(self):\n",
        "    return self.pi*self.radius**2\n",
        "\n",
        "  def display(self):\n",
        "    print(\"The perimeter of the circle is: \",self.perimeter())\n",
        "    print(\"The area of the circle is: \", self.area())\n",
        "\n",
        "circle = Circle(float(input(\"Enter the value of the radius of the circle: \")))\n",
        "circle.display()"
      ]
    }
  ]
}